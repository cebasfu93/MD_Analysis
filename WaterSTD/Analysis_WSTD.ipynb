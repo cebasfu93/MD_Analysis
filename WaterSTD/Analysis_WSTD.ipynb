{
 "cells": [
  {
   "cell_type": "code",
   "execution_count": 5,
   "metadata": {},
   "outputs": [],
   "source": [
    "import numpy as np\n",
    "import Analysis_source as src\n",
    "from importlib import reload"
   ]
  },
  {
   "cell_type": "markdown",
   "metadata": {},
   "source": [
    "# Input files and colors"
   ]
  },
  {
   "cell_type": "code",
   "execution_count": 6,
   "metadata": {},
   "outputs": [],
   "source": [
    "colors_btime = {'DOP' : (0.0,0.4,1.0),\\\n",
    "                'DON' : (0.0,0.8,1.0),\\\n",
    "                'SER' : (1.0,0.3,0.0),\\\n",
    "                'SEN' : (1.0,0.6,0.0),\\\n",
    "                'PHC' : (0.0,0.2,0.0),\\\n",
    "                'PHN' : (0.0,0.4,0.0),\\\n",
    "                'PHE' : (0.0,0.6,0.0),\\\n",
    "                'PHA' : (0.0,0.8,0.0)}\n",
    "colors_btime = {key: tuple(min(1.4*(c+(np.mean(col)-c)/2.), 1) for c in col) for key, col in colors_btime.items()}"
   ]
  },
  {
   "cell_type": "code",
   "execution_count": 7,
   "metadata": {},
   "outputs": [],
   "source": [
    "fnames = {\"SER_H\" : \"BTIMES_WSTD/NP22sp-53_PRO1-10_btimes_WSTD.sfu\",\n",
    "          \"PHE_H\" : \"BTIMES_WSTD/NP22sp-53_PRO1-10_btimes_WSTD.sfu\",\n",
    "          \"DOP_H\" : \"BTIMES_WSTD/NP22dp-53_PRO1-11_btimes_WSTD.sfu\",\n",
    "          \"DON_H\" : \"BTIMES_WSTD/NP22don-53_PRO1-11_btimes_WSTD.sfu\",\n",
    "          \"SEN_H\" : \"BTIMES_WSTD/NP22sen-53_PRO1-11_btimes_WSTD.sfu\",\n",
    "          \"PHC_H\" : \"BTIMES_WSTD/NP22phc-53_PRO1-11_btimes_WSTD.sfu\",\n",
    "          \"PHN_H\" : \"BTIMES_WSTD/NP22phn-53_PRO1-11_btimes_WSTD.sfu\",\n",
    "          \"PHA_H\" : \"BTIMES_WSTD/NP22pha-53_PRO1-11_btimes_WSTD.sfu\"}"
   ]
  },
  {
   "cell_type": "markdown",
   "metadata": {},
   "source": [
    "# Import data"
   ]
  },
  {
   "cell_type": "code",
   "execution_count": null,
   "metadata": {},
   "outputs": [
    {
     "name": "stdout",
     "output_type": "stream",
     "text": [
      "Importing BTIMES_WSTD/NP22sp-53_PRO1-10_btimes_WSTD.sfu\n"
     ]
    },
    {
     "name": "stderr",
     "output_type": "stream",
     "text": [
      " 33%|██████████████████████▎                                            | 8805190/26409256 [02:28<00:31, 565873.63it/s]"
     ]
    }
   ],
   "source": [
    "btimes = {key[:3] : src.import_events(fname, ignore_ns=0.02)[key] for key, fname in fnames.items()}\n",
    "keys = btimes.keys()"
   ]
  },
  {
   "cell_type": "code",
   "execution_count": null,
   "metadata": {},
   "outputs": [],
   "source": [
    "#btimes = {key : compress_chemical_positions(val, propname=None) for key, val in btimes.items()}"
   ]
  },
  {
   "cell_type": "markdown",
   "metadata": {},
   "source": [
    "# Plotting"
   ]
  },
  {
   "cell_type": "code",
   "execution_count": null,
   "metadata": {
    "scrolled": true
   },
   "outputs": [],
   "source": [
    "for key, val in btimes.items():\n",
    "    print(key, val[\"dt\"].min(), val[\"dt\"].max())"
   ]
  },
  {
   "cell_type": "code",
   "execution_count": null,
   "metadata": {
    "scrolled": true
   },
   "outputs": [],
   "source": [
    "for key in keys:\n",
    "    src.plot_btime(key, btimes=btimes, ignore_ns=0.2, xlim=(0,5), thresh_ns=5, ylim=(1,3))"
   ]
  },
  {
   "cell_type": "code",
   "execution_count": null,
   "metadata": {
    "scrolled": true
   },
   "outputs": [],
   "source": [
    "src.prop_boxplot(\"dt\", ignore_ns=0.2, btimes=btimes, colors=colors_btime, ylim=(0,4), ylabel='Residence time (ns)', nticks=6)\n",
    "src.prop_boxplot(\"dist\", ignore_ns=0.2, btimes=btimes, colors=colors_btime, ylim=(1,3.), ylabel='Mean dist to Au COM (nm)', nticks=6)"
   ]
  },
  {
   "cell_type": "code",
   "execution_count": null,
   "metadata": {},
   "outputs": [],
   "source": [
    "groups = [['SER', 'DOP'],\n",
    "         ['SER', 'PHE'],\n",
    "         ['DOP', 'PHE']]\n",
    "#for group in groups:\n",
    "#    src.plot_cluster(group, btimes=btimes, colors=colors_btime, xlim=(0,20), ylim=(1,2.5), ignore_ns=0.5)"
   ]
  },
  {
   "cell_type": "code",
   "execution_count": null,
   "metadata": {
    "scrolled": true
   },
   "outputs": [],
   "source": [
    "groups = [['SER', 'DOP', 'PHE'],\n",
    "          ['SER', 'SEN'],\n",
    "          ['DOP', 'DON'],\n",
    "          ['PHC', 'PHN', 'PHE', 'PHA'],\n",
    "          ['SER', 'SEN', 'DOP', 'DON', 'PHC', 'PHN', 'PHE', 'PHA']] \n",
    "\n",
    "for group in groups:\n",
    "    src.plot_cumevents(group, btimes=btimes, colors=colors_btime, ylim=(0,10000), xlim=(0,5), ignore_ns=0.2)\n",
    "    src.plot_cumevents(group, btimes=btimes, colors=colors_btime, ylim=(0,1), xlim=(0,2), ignore_ns=0.5, normed=True)"
   ]
  },
  {
   "cell_type": "code",
   "execution_count": null,
   "metadata": {
    "scrolled": true
   },
   "outputs": [],
   "source": [
    "groups = [['SER', 'DOP', 'PHE'],\n",
    "          ['SER', 'SEN'],\n",
    "          ['DOP', 'DON'],\n",
    "          ['PHC', 'PHN', 'PHE', 'PHA'],\n",
    "          ['SER', 'SEN', 'DOP', 'DON', 'PHC', 'PHN', 'PHE', 'PHA']]\n",
    "\n",
    "for group in groups:\n",
    "    src.plot_cumevents(group, btimes=btimes, colors=colors_btime, ylim=(0,10000), xlim=(1,0), ignore_ns=0.2)\n",
    "    src.plot_cumevents(group, btimes=btimes, colors=colors_btime, ylim=(0,1), xlim=(1,0), ignore_ns=0.2, normed=True)"
   ]
  },
  {
   "cell_type": "code",
   "execution_count": null,
   "metadata": {
    "scrolled": true
   },
   "outputs": [],
   "source": [
    "src.plot_positions(['SER', 'SEN', 'DOP', 'DON', 'PHC', 'PHN', 'PHE', 'PHA'], btimes=btimes, colors=colors_btime, req_sample_size=100, ignore_ns=0.2)"
   ]
  },
  {
   "cell_type": "code",
   "execution_count": null,
   "metadata": {},
   "outputs": [],
   "source": [
    "reload(src)"
   ]
  },
  {
   "cell_type": "code",
   "execution_count": null,
   "metadata": {
    "scrolled": true
   },
   "outputs": [],
   "source": [
    "#src.plot_barpositions(['SER', 'SEN', 'DOP', 'DON', 'PHC', 'PHN', 'PHE', 'PHA'], btimes=btimes, colors=colors_btime, req_sample_size=100, ignore_ns=0.2)\n",
    "src.plot_barpositions(['SER', 'DOP', 'PHE'], btimes=btimes, colors=colors_btime, req_sample_size=100, ignore_ns=0.2)"
   ]
  },
  {
   "cell_type": "code",
   "execution_count": null,
   "metadata": {},
   "outputs": [],
   "source": []
  }
 ],
 "metadata": {
  "kernelspec": {
   "display_name": "Python 3",
   "language": "python",
   "name": "python3"
  },
  "language_info": {
   "codemirror_mode": {
    "name": "ipython",
    "version": 3
   },
   "file_extension": ".py",
   "mimetype": "text/x-python",
   "name": "python",
   "nbconvert_exporter": "python",
   "pygments_lexer": "ipython3",
   "version": "3.8.6"
  }
 },
 "nbformat": 4,
 "nbformat_minor": 4
}
