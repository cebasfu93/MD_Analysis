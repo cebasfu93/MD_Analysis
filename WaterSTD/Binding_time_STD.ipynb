{
 "cells": [
  {
   "cell_type": "code",
   "execution_count": 3,
   "metadata": {},
   "outputs": [
    {
     "data": {
      "text/plain": [
       "'\\nDetects and analyzes the binding events that would result in NMR-STD signals (not water mediated)\\n'"
      ]
     },
     "execution_count": 3,
     "metadata": {},
     "output_type": "execute_result"
    }
   ],
   "source": [
    "\"\"\"\n",
    "Detects and analyzes the binding events that would result in NMR-STD signals (not water mediated)\n",
    "\"\"\""
   ]
  },
  {
   "cell_type": "code",
   "execution_count": 4,
   "metadata": {},
   "outputs": [],
   "source": [
    "XTC = \"NP22don-53/NP22don-53_PRO1-11_FIX100ns.xtc\"\n",
    "TPR = \"NP22don-53/NP22don-53_PRO1.tpr\"\n",
    "NAME = XTC[:-8]"
   ]
  },
  {
   "cell_type": "code",
   "execution_count": 5,
   "metadata": {},
   "outputs": [],
   "source": [
    "import math\n",
    "import numpy as np\n",
    "import matplotlib.pyplot as plt\n",
    "from scipy.spatial.distance import cdist\n",
    "from MDAnalysis import *\n",
    "from collections import defaultdict"
   ]
  },
  {
   "cell_type": "code",
   "execution_count": 6,
   "metadata": {},
   "outputs": [
    {
     "name": "stdout",
     "output_type": "stream",
     "text": [
      "5001\n",
      "20.0\n"
     ]
    }
   ],
   "source": [
    "U = Universe(TPR, XTC)\n",
    "print(len(U.trajectory))\n",
    "DT = U.trajectory[0].dt\n",
    "print(DT)"
   ]
  },
  {
   "cell_type": "code",
   "execution_count": 123,
   "metadata": {},
   "outputs": [],
   "source": [
    "identical_mono_H = [\"H4 H5\", \"H6 H7\", \"H8 H9\", \"H10 H11\", \"H12 H13\", \"H14 H15\", \"H16 H17\", \"H20 H21\", \"H19 H22\"]\n",
    "identical_DON_H = [\"H1\", \"H2 H3\", \"H6 H7\", \"H8 H9\"]\n",
    "\n",
    "sel = {\n",
    "\"all_gold\"  : U.select_atoms(\"name AU AUS AUL\"),\n",
    "\"mono_H\"    : [U.select_atoms(\"resname L22 and name {}\".format(ident)) for ident in identical_mono_H],\n",
    "\"DON_H\"     : [U.select_atoms(\"resname DON and name {}\".format(ident)) for ident in identical_DON_H],\n",
    "\"SOL\"       : U.select_atoms(\"resname SOL\")\n",
    "}"
   ]
  },
  {
   "cell_type": "code",
   "execution_count": 126,
   "metadata": {},
   "outputs": [],
   "source": [
    "props_bind_time = {\n",
    "'anchor'    : 'all_gold', #the script reports the median distance respect to this group\n",
    "'ref'       : \"mono_H\",\n",
    "'targets'    : [\"DON_H\"],\n",
    "'solvent'    : \"SOL\",\n",
    "'start_ps'  : 0,\n",
    "'stop_ps'   : 1000,\n",
    "'d_max'     : 4, #A, threshold distance for magnetization transfer\n",
    "}"
   ]
  },
  {
   "cell_type": "code",
   "execution_count": 127,
   "metadata": {},
   "outputs": [],
   "source": [
    "class STDFrame:\n",
    "    def __init__(self, time, bound_pairs, dists):\n",
    "        self.time = time\n",
    "        self.pairs = bound_pairs\n",
    "        self.dists = dists\n",
    "\n",
    "class STDEvent:\n",
    "    def __init__(self, pair, dist, ndx_frame, counter, res):\n",
    "        self.res = res\n",
    "        self.pair = pair\n",
    "        self.counter = counter\n",
    "        self.dist = [dist]\n",
    "        self.ndx_fr = [ndx_frame]\n",
    "        \n",
    "    def extend_event(self, dist, ndx_frame):\n",
    "        self.dist.append(dist)\n",
    "        self.ndx_fr.append(ndx_frame)\n",
    "        \n",
    "    def compress_event(self, func=np.median):\n",
    "        self.anchor_dist = func(self.dist)\n",
    "        self.duration = DT*(max(self.ndx_fr) - min(self.ndx_fr) + 1)\n",
    "\n",
    "class STDTrajectory:\n",
    "    def __init__(self, frames):\n",
    "        self.frames = frames\n",
    "    \n",
    "    def Search_STDEvents(self):\n",
    "        self.events = {}\n",
    "        counters = defaultdict(int)\n",
    "        for f, frame in enumerate(self.frames):\n",
    "            print(frame.time, end=\"\\r\")\n",
    "            for res, dist in frame.dists.items():\n",
    "                for pair in frame.pairs[res]:\n",
    "                    key = (*pair, counters[pair])\n",
    "                    if key not in self.events.keys():\n",
    "                        self.events[key] = STDEvent(pair, dist, f, counters[pair], res)\n",
    "                    else:\n",
    "                        if f-1 in self.events[key].ndx_fr:\n",
    "                            self.events[key].extend_event(dist, f)\n",
    "                        else:\n",
    "                            counters[pair] += 1\n",
    "                            self.events[key] = STDEvent(pair, dist, f, counters[pair], res)\n",
    "                            \n",
    "        for event in self.events.values():\n",
    "            event.compress_event()"
   ]
  },
  {
   "cell_type": "code",
   "execution_count": 119,
   "metadata": {},
   "outputs": [
    {
     "name": "stdout",
     "output_type": "stream",
     "text": [
      "99980.0\r"
     ]
    }
   ],
   "source": [
    "def binding_time_std(props):\n",
    "    all_trajectories = {}\n",
    "    g_anchor = sel[props['anchor']]\n",
    "    for target in props['targets']:\n",
    "        g_target = sel[target]\n",
    "        g_ref = sel[props['ref']]\n",
    "        n_targets = len(g_target.residues)\n",
    "        frames = []\n",
    "        for ts in U.trajectory:\n",
    "            if ts.time >= props['stop_ps']:\n",
    "                break\n",
    "            elif ts.time >= props['start_ps']:\n",
    "                print(ts.time, end=\"\\r\")            \n",
    "                pairs = defaultdict(list)\n",
    "\n",
    "                anchor_dist = {res.ix : np.linalg.norm(res.atoms.center_of_mass()-g_anchor.center_of_mass()) for res in g_target.residues}\n",
    "                dists = cdist(g_ref.positions, g_target.positions)\n",
    "\n",
    "                ndx_close = np.where(dists<=props['d_max'])\n",
    "                ndx_ref_H = g_ref[ndx_close[0]].ix\n",
    "                target_H = g_target[ndx_close[1]]\n",
    "                ndx_target_H = target_H.ix\n",
    "                res_target = [U.atoms[ndx].resid for ndx in ndx_target_H]\n",
    "\n",
    "                for rt, nth, nrh in zip(res_target, ndx_target_H, ndx_ref_H):\n",
    "                    pairs[rt].append((nrh, nth))\n",
    "\n",
    "                stdframe = STDFrame(ts.time, pairs, anchor_dist)\n",
    "                frames.append(stdframe)\n",
    "\n",
    "            all_trajectories[target] = STDTrajectory(frames)\n",
    "    return all_trajectories   \n",
    "\n",
    "trajs = binding_time_std(props_bind_time)"
   ]
  },
  {
   "cell_type": "code",
   "execution_count": 120,
   "metadata": {},
   "outputs": [
    {
     "name": "stdout",
     "output_type": "stream",
     "text": [
      "99980.0\r"
     ]
    }
   ],
   "source": [
    "trajs['DON_H'].Search_STDEvents()"
   ]
  },
  {
   "cell_type": "code",
   "execution_count": 130,
   "metadata": {},
   "outputs": [
    {
     "name": "stdout",
     "output_type": "stream",
     "text": [
      "[520.0, 720.0, 560.0, 560.0, 680.0, 560.0, 520.0, 600.0, 560.0, 620.0, 540.0, 540.0, 820.0, 680.0]\n"
     ]
    }
   ],
   "source": [
    "print([ev.duration for ev in trajs['DON_H'].events.values() if ev.duration>500])"
   ]
  }
 ],
 "metadata": {
  "kernelspec": {
   "display_name": "Python 3",
   "language": "python",
   "name": "python3"
  },
  "language_info": {
   "codemirror_mode": {
    "name": "ipython",
    "version": 3
   },
   "file_extension": ".py",
   "mimetype": "text/x-python",
   "name": "python",
   "nbconvert_exporter": "python",
   "pygments_lexer": "ipython3",
   "version": "3.8.5"
  }
 },
 "nbformat": 4,
 "nbformat_minor": 4
}
